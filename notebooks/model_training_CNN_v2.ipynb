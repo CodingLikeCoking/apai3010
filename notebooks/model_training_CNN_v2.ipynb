{
 "cells": [
  {
   "cell_type": "markdown",
   "metadata": {},
   "source": [
    "# Image classification with CNN\n",
    "Reference: https://medium.com/bitgrit-data-science-publication/building-an-image-classification-model-with-pytorch-from-scratch-f10452073212"
   ]
  },
  {
   "cell_type": "code",
   "execution_count": 1,
   "metadata": {},
   "outputs": [
    {
     "name": "stderr",
     "output_type": "stream",
     "text": [
      "/userhome/cs2/cahu/anaconda3/envs/apai-img/lib/python3.11/site-packages/tqdm/auto.py:21: TqdmWarning: IProgress not found. Please update jupyter and ipywidgets. See https://ipywidgets.readthedocs.io/en/stable/user_install.html\n",
      "  from .autonotebook import tqdm as notebook_tqdm\n"
     ]
    }
   ],
   "source": [
    "import os\n",
    "import matplotlib.pyplot as plt\n",
    "from datetime import datetime\n",
    "from sklearn.metrics import accuracy_score\n",
    "import numpy as np\n",
    "import torch\n",
    "from torch import nn\n",
    "from torch.utils.data import Dataset, DataLoader\n",
    "from torchvision import transforms\n",
    "from torchinfo import summary\n",
    "from PIL import Image\n",
    "from pathlib import Path\n",
    "import random\n",
    "from PIL import ImageFilter\n",
    "import tqdm\n",
    "\n",
    "random.seed(42)\n",
    "%matplotlib inline"
   ]
  },
  {
   "cell_type": "markdown",
   "metadata": {},
   "source": [
    "### Data preparation"
   ]
  },
  {
   "cell_type": "code",
   "execution_count": 2,
   "metadata": {},
   "outputs": [
    {
     "data": {
      "text/plain": [
       "'cuda'"
      ]
     },
     "execution_count": 2,
     "metadata": {},
     "output_type": "execute_result"
    }
   ],
   "source": [
    "# Device diagnostic code\n",
    "device = \"cuda\" if torch.cuda.is_available() else \"cpu\"\n",
    "device"
   ]
  },
  {
   "cell_type": "code",
   "execution_count": 3,
   "metadata": {},
   "outputs": [
    {
     "data": {
      "text/plain": [
       "['plane',\n",
       " 'car',\n",
       " 'bird',\n",
       " 'cat',\n",
       " 'deer',\n",
       " 'dog',\n",
       " 'frog',\n",
       " 'horse',\n",
       " 'ship',\n",
       " 'truck']"
      ]
     },
     "metadata": {},
     "output_type": "display_data"
    },
    {
     "data": {
      "text/plain": [
       "{0: 'plane',\n",
       " 1: 'car',\n",
       " 2: 'bird',\n",
       " 3: 'cat',\n",
       " 4: 'deer',\n",
       " 5: 'dog',\n",
       " 6: 'frog',\n",
       " 7: 'horse',\n",
       " 8: 'ship',\n",
       " 9: 'truck'}"
      ]
     },
     "metadata": {},
     "output_type": "display_data"
    }
   ],
   "source": [
    "CLASSES = [\n",
    "    'plane', 'car', 'bird', 'cat', 'deer', \n",
    "    'dog', 'frog', 'horse', 'ship', 'truck',\n",
    "]\n",
    "IDX_TO_CLASS = {i: c for i, c in enumerate(CLASSES)}\n",
    "\n",
    "def get_idx(fname):\n",
    "    if \"(\" not in fname:\n",
    "        return 0\n",
    "    return int(fname.split(\"(\")[1].split(\")\")[0]) - 1\n",
    "\n",
    "def get_image(fname):\n",
    "    return Image.open(fname)\n",
    "\n",
    "display(CLASSES)\n",
    "display(IDX_TO_CLASS)"
   ]
  },
  {
   "cell_type": "code",
   "execution_count": 4,
   "metadata": {},
   "outputs": [
    {
     "data": {
      "text/plain": [
       "(<PIL.JpegImagePlugin.JpegImageFile image mode=RGB size=32x32>, 6)"
      ]
     },
     "execution_count": 4,
     "metadata": {},
     "output_type": "execute_result"
    }
   ],
   "source": [
    "# Training images and labels\n",
    "DATA_SOURCE = \"FAKE\"\n",
    "train_path = Path(f\"../data/cifake/train/{DATA_SOURCE}\")\n",
    "test_path = Path(f\"../data/cifake/test/REAL\")\n",
    "\n",
    "train_images = [get_image(train_path / fname) for fname in os.listdir(train_path)]\n",
    "train_labels = [get_idx(fname) for fname in os.listdir(train_path)]\n",
    "\n",
    "train_images[0], train_labels[0]"
   ]
  },
  {
   "cell_type": "code",
   "execution_count": 5,
   "metadata": {},
   "outputs": [
    {
     "data": {
      "text/plain": [
       "(<PIL.JpegImagePlugin.JpegImageFile image mode=RGB size=32x32>, 0)"
      ]
     },
     "execution_count": 5,
     "metadata": {},
     "output_type": "execute_result"
    }
   ],
   "source": [
    "# Testing images and labels\n",
    "test_images = [get_image(test_path / fname) for fname in os.listdir(test_path)]\n",
    "test_labels = [get_idx(fname) for fname in os.listdir(test_path)]\n",
    "\n",
    "test_images[0], test_labels[0]"
   ]
  },
  {
   "cell_type": "code",
   "execution_count": 6,
   "metadata": {},
   "outputs": [],
   "source": [
    "# Dataset class\n",
    "class ImageDataset(Dataset):\n",
    "    def __init__(self, images, labels, transform):\n",
    "        super().__init__()\n",
    "        self.images = images\n",
    "        self.labels = labels\n",
    "        self.transform = transform\n",
    "    \n",
    "    def __len__(self):\n",
    "        return len(self.images)\n",
    "    \n",
    "    def __getitem__(self, index):\n",
    "        img = self.images[index]\n",
    "        label = self.labels[index]\n",
    "        if self.transform:\n",
    "            img = self.transform(img)\n",
    "        return img, label\n",
    "\n",
    "# Self-define Gaussian blur function for data augmentation    \n",
    "class GaussianBlur(object):\n",
    "    def __init__(self, sigma=[.1, 2.]):\n",
    "        self.sigma = sigma\n",
    "\n",
    "    def __call__(self, x):\n",
    "        sigma = random.uniform(self.sigma[0], self.sigma[1])\n",
    "        x = x.filter(ImageFilter.GaussianBlur(radius=sigma))\n",
    "        return x"
   ]
  },
  {
   "cell_type": "code",
   "execution_count": 7,
   "metadata": {},
   "outputs": [],
   "source": [
    "# Define data augmentation for training and testing images\n",
    "train_transforms = transforms.Compose([\n",
    "    transforms.RandomResizedCrop(size=32),\n",
    "    transforms.RandomApply([transforms.ColorJitter(0.4, 0.4, 0.4, 0.1)], p=0.8),\n",
    "    transforms.RandomGrayscale(p=0.2),\n",
    "    transforms.RandomApply([GaussianBlur([.1, 2.])], p=0.5),\n",
    "    transforms.RandomHorizontalFlip(p=0.5),\n",
    "    transforms.ToTensor(),\n",
    "    transforms.Normalize((0.5, 0.5, 0.5), (0.5, 0.5, 0.5))\n",
    "])\n",
    "\n",
    "test_transforms = transforms.Compose([\n",
    "    transforms.RandomResizedCrop(size=32),\n",
    "    transforms.CenterCrop(size=32),\n",
    "    transforms.ToTensor(),\n",
    "    transforms.Normalize((0.5, 0.5, 0.5), (0.5, 0.5, 0.5)),\n",
    "])"
   ]
  },
  {
   "cell_type": "code",
   "execution_count": 8,
   "metadata": {},
   "outputs": [],
   "source": [
    "# Dataloader\n",
    "train_dataset = ImageDataset(train_images, train_labels, train_transforms)\n",
    "test_dataset = ImageDataset(test_images, test_labels, test_transforms)\n",
    "\n",
    "train_dataloader = DataLoader(train_dataset, batch_size=1024, shuffle=True, num_workers=os.cpu_count())\n",
    "test_dataloader = DataLoader(test_dataset, batch_size=1024, num_workers=os.cpu_count())"
   ]
  },
  {
   "cell_type": "code",
   "execution_count": 9,
   "metadata": {},
   "outputs": [
    {
     "data": {
      "text/plain": [
       "torch.Size([1024, 3, 32, 32])"
      ]
     },
     "execution_count": 9,
     "metadata": {},
     "output_type": "execute_result"
    }
   ],
   "source": [
    "example = next(iter(train_dataloader))\n",
    "example[0].shape"
   ]
  },
  {
   "cell_type": "markdown",
   "metadata": {},
   "source": [
    "### Model"
   ]
  },
  {
   "cell_type": "code",
   "execution_count": 10,
   "metadata": {},
   "outputs": [
    {
     "name": "stdout",
     "output_type": "stream",
     "text": [
      "ImageClassifier(\n",
      "  (conv1): Sequential(\n",
      "    (0): Conv2d(3, 32, kernel_size=(3, 3), stride=(1, 1), padding=(1, 1))\n",
      "    (1): ReLU()\n",
      "    (2): MaxPool2d(kernel_size=2, stride=2, padding=0, dilation=1, ceil_mode=False)\n",
      "    (3): BatchNorm2d(32, eps=1e-05, momentum=0.1, affine=True, track_running_stats=True)\n",
      "  )\n",
      "  (conv2): Sequential(\n",
      "    (0): Conv2d(32, 32, kernel_size=(3, 3), stride=(1, 1), padding=(1, 1))\n",
      "    (1): ReLU()\n",
      "    (2): MaxPool2d(kernel_size=2, stride=2, padding=0, dilation=1, ceil_mode=False)\n",
      "    (3): BatchNorm2d(32, eps=1e-05, momentum=0.1, affine=True, track_running_stats=True)\n",
      "  )\n",
      "  (conv3): Sequential(\n",
      "    (0): Conv2d(32, 32, kernel_size=(3, 3), stride=(1, 1), padding=(1, 1))\n",
      "    (1): ReLU()\n",
      "    (2): MaxPool2d(kernel_size=2, stride=2, padding=0, dilation=1, ceil_mode=False)\n",
      "    (3): BatchNorm2d(32, eps=1e-05, momentum=0.1, affine=True, track_running_stats=True)\n",
      "  )\n",
      "  (classifier): Sequential(\n",
      "    (0): Flatten(start_dim=1, end_dim=-1)\n",
      "    (1): Linear(in_features=512, out_features=256, bias=True)\n",
      "    (2): ReLU()\n",
      "    (3): Linear(in_features=256, out_features=128, bias=True)\n",
      "    (4): ReLU()\n",
      "    (5): Linear(in_features=128, out_features=10, bias=True)\n",
      "  )\n",
      ")\n"
     ]
    }
   ],
   "source": [
    "# CNN architecture\n",
    "class ImageClassifier(nn.Module):\n",
    "    ''' Models a simple CNN image classifier'''\n",
    "\t\n",
    "    def __init__(self, input_shape, hidden_units, output_shape):\n",
    "        ''' initialize the network '''\n",
    "        super(ImageClassifier, self).__init__()\n",
    "\t    # 3 convolutional blocks and 1 feed-forward layer\n",
    "        self.conv1 = nn.Sequential(\n",
    "            nn.Conv2d(\n",
    "                in_channels=input_shape, \n",
    "                out_channels=hidden_units, \n",
    "                kernel_size=3,\n",
    "                stride=1,\n",
    "                padding=1\n",
    "            ),\n",
    "            nn.ReLU(),\n",
    "            nn.MaxPool2d(\n",
    "                kernel_size=2,\n",
    "                stride=2\n",
    "            ),\n",
    "            nn.BatchNorm2d(num_features=hidden_units)\n",
    "        )\n",
    "        self.conv2 = nn.Sequential(\n",
    "            nn.Conv2d(\n",
    "                in_channels=hidden_units, \n",
    "                out_channels=hidden_units, \n",
    "                kernel_size=3,\n",
    "                stride=1,\n",
    "                padding=1\n",
    "            ),\n",
    "            nn.ReLU(),\n",
    "            nn.MaxPool2d(\n",
    "                kernel_size=2,\n",
    "                stride=2\n",
    "            ),\n",
    "            nn.BatchNorm2d(num_features=hidden_units)\n",
    "        )\n",
    "        self.conv3 = nn.Sequential(\n",
    "            nn.Conv2d(\n",
    "                in_channels=hidden_units, \n",
    "                out_channels=hidden_units, \n",
    "                kernel_size=3,\n",
    "                stride=1,\n",
    "                padding=1\n",
    "            ),\n",
    "            nn.ReLU(),\n",
    "            nn.MaxPool2d(\n",
    "                kernel_size=2,\n",
    "                stride=2\n",
    "            ),\n",
    "            nn.BatchNorm2d(num_features=hidden_units)\n",
    "        )\n",
    "        self.classifier = nn.Sequential(\n",
    "            nn.Flatten(),\n",
    "            nn.Linear(in_features=hidden_units*4*4, out_features=256),\n",
    "            nn.ReLU(),\n",
    "            nn.Linear(in_features=256, out_features=128),\n",
    "            nn.ReLU(),\n",
    "            nn.Linear(in_features=128, out_features=10)\n",
    "        )\n",
    "\n",
    "    def forward(self, x):\n",
    "        return self.classifier(self.conv3(self.conv2(self.conv1(x))))\n",
    "\n",
    "model = ImageClassifier(input_shape=3, hidden_units=32, output_shape=len(CLASSES))\n",
    "print(model)"
   ]
  },
  {
   "cell_type": "code",
   "execution_count": 11,
   "metadata": {},
   "outputs": [
    {
     "data": {
      "text/plain": [
       "==========================================================================================\n",
       "Layer (type:depth-idx)                   Output Shape              Param #\n",
       "==========================================================================================\n",
       "ImageClassifier                          [1, 10]                   --\n",
       "├─Sequential: 1-1                        [1, 32, 16, 16]           --\n",
       "│    └─Conv2d: 2-1                       [1, 32, 32, 32]           896\n",
       "│    └─ReLU: 2-2                         [1, 32, 32, 32]           --\n",
       "│    └─MaxPool2d: 2-3                    [1, 32, 16, 16]           --\n",
       "│    └─BatchNorm2d: 2-4                  [1, 32, 16, 16]           64\n",
       "├─Sequential: 1-2                        [1, 32, 8, 8]             --\n",
       "│    └─Conv2d: 2-5                       [1, 32, 16, 16]           9,248\n",
       "│    └─ReLU: 2-6                         [1, 32, 16, 16]           --\n",
       "│    └─MaxPool2d: 2-7                    [1, 32, 8, 8]             --\n",
       "│    └─BatchNorm2d: 2-8                  [1, 32, 8, 8]             64\n",
       "├─Sequential: 1-3                        [1, 32, 4, 4]             --\n",
       "│    └─Conv2d: 2-9                       [1, 32, 8, 8]             9,248\n",
       "│    └─ReLU: 2-10                        [1, 32, 8, 8]             --\n",
       "│    └─MaxPool2d: 2-11                   [1, 32, 4, 4]             --\n",
       "│    └─BatchNorm2d: 2-12                 [1, 32, 4, 4]             64\n",
       "├─Sequential: 1-4                        [1, 10]                   --\n",
       "│    └─Flatten: 2-13                     [1, 512]                  --\n",
       "│    └─Linear: 2-14                      [1, 256]                  131,328\n",
       "│    └─ReLU: 2-15                        [1, 256]                  --\n",
       "│    └─Linear: 2-16                      [1, 128]                  32,896\n",
       "│    └─ReLU: 2-17                        [1, 128]                  --\n",
       "│    └─Linear: 2-18                      [1, 10]                   1,290\n",
       "==========================================================================================\n",
       "Total params: 185,098\n",
       "Trainable params: 185,098\n",
       "Non-trainable params: 0\n",
       "Total mult-adds (Units.MEGABYTES): 4.04\n",
       "==========================================================================================\n",
       "Input size (MB): 0.01\n",
       "Forward/backward pass size (MB): 0.43\n",
       "Params size (MB): 0.74\n",
       "Estimated Total Size (MB): 1.19\n",
       "=========================================================================================="
      ]
     },
     "execution_count": 11,
     "metadata": {},
     "output_type": "execute_result"
    }
   ],
   "source": [
    "summary(model, input_size=[1, 3, 32, 32])"
   ]
  },
  {
   "cell_type": "markdown",
   "metadata": {},
   "source": [
    "### Training"
   ]
  },
  {
   "cell_type": "code",
   "execution_count": 12,
   "metadata": {},
   "outputs": [],
   "source": [
    "# Define training loop\n",
    "def train_step(model, dataloader, loss_fn, optimizer):\n",
    "    model.train()\n",
    "    train_loss, train_acc = 0, 0\n",
    "\n",
    "    for X, y in dataloader:\n",
    "        # Send data to the device\n",
    "        X, y = X.to(device), y.to(device)\n",
    "\n",
    "        # Forward pass + calculate loss + back propagation + optimize step\n",
    "        y_pred = model(X)\n",
    "        loss = loss_fn(y_pred, y)\n",
    "        train_loss += loss.item()\n",
    "        optimizer.zero_grad()\n",
    "        loss.backward()\n",
    "        optimizer.step()\n",
    "\n",
    "        # Calculate accuracy\n",
    "        y_class = torch.argmax(y_pred, axis=1)\n",
    "        train_acc += (y_class == y).sum().item() / len(y)\n",
    "\n",
    "    # Calculate metrics\n",
    "    train_loss /= len(train_dataloader)\n",
    "    train_acc /= len(train_dataloader)\n",
    "    \n",
    "    return train_loss, train_acc\n",
    "\n",
    "def test_step(model, dataloader, loss_fn):\n",
    "    model.eval()\n",
    "    test_loss, test_acc = 0, 0\n",
    "\n",
    "    with torch.inference_mode():\n",
    "        for X, y in dataloader:\n",
    "            X, y = X.to(device), y.to(device)\n",
    "\n",
    "            y_pred = model(X)\n",
    "            loss = loss_fn(y_pred, y)\n",
    "            test_loss += loss.item()\n",
    "\n",
    "            y_class = torch.argmax(y_pred, axis=1)\n",
    "            test_acc += (y_class == y).sum().item() / len(y_class)\n",
    "        \n",
    "        test_loss /= len(dataloader)\n",
    "        test_acc /= len(dataloader)\n",
    "    \n",
    "    return test_loss, test_acc\n",
    "\n",
    "def train(model, train_dataloader, test_dataloader, loss_fn, optimizer, epochs, output_dir):\n",
    "    results = {\"train_loss\": [], \"train_acc\": [], \"test_loss\": [], \"test_acc\": []}\n",
    "    with open(f\"{output_dir}/result.txt\", \"w\") as f:\n",
    "        for epoch in range(epochs):\n",
    "            train_loss, train_acc = train_step(model, train_dataloader, loss_fn, optimizer)\n",
    "            test_loss, test_acc = test_step(model, test_dataloader, loss_fn)\n",
    "            print(\n",
    "                f\"Epoch: {epoch+1} | \"\n",
    "                f\"train_loss: {train_loss:.4f} | \"\n",
    "                f\"train_acc: {train_acc:.4f} | \"\n",
    "                f\"test_loss: {test_loss:.4f} | \"\n",
    "                f\"test_acc: {test_acc:.4f}\"\n",
    "            )\n",
    "            results[\"train_loss\"].append(train_loss)\n",
    "            results[\"train_acc\"].append(train_acc)\n",
    "            results[\"test_loss\"].append(test_loss)\n",
    "            results[\"test_acc\"].append(test_acc)\n",
    "\n",
    "        # Write the result\n",
    "        best_epoch = np.argmax(results[\"test_acc\"]) + 1\n",
    "        best_train_loss, best_train_acc = results[\"train_loss\"][best_epoch], results[\"train_acc\"][best_epoch]\n",
    "        best_test_loss, best_test_acc = results[\"test_loss\"][best_epoch], results[\"test_acc\"][best_epoch]\n",
    "        f.write(\n",
    "            \"Best result:\\n\"\n",
    "            f\"Epoch: {best_epoch} | \"\n",
    "            f\"train_loss: {best_train_loss:.4f} | \"\n",
    "            f\"train_acc: {best_train_acc:.4f} | \"\n",
    "            f\"test_loss: {best_test_loss:.4f} | \"\n",
    "            f\"test_acc: {best_test_acc:.4f}\"\n",
    "        )\n",
    "        plt.plot([x for x in results[\"train_loss\"]], label=\"Train loss\")\n",
    "        plt.plot([x for x in results[\"test_loss\"]], label=\"Test loss\")\n",
    "        plt.legend()\n",
    "        plt.savefig(f\"{output_dir}/loss_plot.png\")\n",
    "\n",
    "    return results"
   ]
  },
  {
   "cell_type": "code",
   "execution_count": 13,
   "metadata": {},
   "outputs": [
    {
     "name": "stderr",
     "output_type": "stream",
     "text": [
      "/userhome/cs2/cahu/anaconda3/envs/apai-img/lib/python3.11/site-packages/torch/autograd/graph.py:744: UserWarning: Plan failed with a cudnnException: CUDNN_BACKEND_EXECUTION_PLAN_DESCRIPTOR: cudnnFinalize Descriptor Failed cudnn_status: CUDNN_STATUS_NOT_SUPPORTED (Triggered internally at ../aten/src/ATen/native/cudnn/Conv_v8.cpp:919.)\n",
      "  return Variable._execution_engine.run_backward(  # Calls into the C++ engine to run the backward pass\n"
     ]
    },
    {
     "name": "stdout",
     "output_type": "stream",
     "text": [
      "Epoch: 1 | train_loss: 1.5953 | train_acc: 0.4241 | test_loss: 1.9948 | test_acc: 0.2900\n",
      "Epoch: 2 | train_loss: 1.2556 | train_acc: 0.5483 | test_loss: 2.0282 | test_acc: 0.3427\n",
      "Epoch: 3 | train_loss: 1.1408 | train_acc: 0.5927 | test_loss: 2.0414 | test_acc: 0.3377\n"
     ]
    },
    {
     "name": "stdout",
     "output_type": "stream",
     "text": [
      "Epoch: 4 | train_loss: 1.0769 | train_acc: 0.6167 | test_loss: 2.0908 | test_acc: 0.3467\n",
      "Epoch: 5 | train_loss: 1.0118 | train_acc: 0.6406 | test_loss: 2.1436 | test_acc: 0.3497\n",
      "Epoch: 6 | train_loss: 0.9707 | train_acc: 0.6571 | test_loss: 2.2023 | test_acc: 0.3569\n",
      "Epoch: 7 | train_loss: 0.9435 | train_acc: 0.6679 | test_loss: 2.1377 | test_acc: 0.3583\n",
      "Epoch: 8 | train_loss: 0.9071 | train_acc: 0.6806 | test_loss: 1.9904 | test_acc: 0.3919\n",
      "Epoch: 9 | train_loss: 0.8915 | train_acc: 0.6880 | test_loss: 2.0692 | test_acc: 0.3808\n",
      "Epoch: 10 | train_loss: 0.8588 | train_acc: 0.6980 | test_loss: 2.0466 | test_acc: 0.3890\n",
      "Epoch: 11 | train_loss: 0.8429 | train_acc: 0.7048 | test_loss: 2.0754 | test_acc: 0.3830\n",
      "Epoch: 12 | train_loss: 0.8339 | train_acc: 0.7069 | test_loss: 2.0227 | test_acc: 0.4020\n",
      "Epoch: 13 | train_loss: 0.8101 | train_acc: 0.7169 | test_loss: 1.9982 | test_acc: 0.4058\n",
      "Epoch: 14 | train_loss: 0.7906 | train_acc: 0.7242 | test_loss: 2.0548 | test_acc: 0.4078\n",
      "Epoch: 15 | train_loss: 0.7928 | train_acc: 0.7217 | test_loss: 2.0150 | test_acc: 0.4019\n",
      "Epoch: 16 | train_loss: 0.7753 | train_acc: 0.7285 | test_loss: 1.9973 | test_acc: 0.4057\n",
      "Epoch: 17 | train_loss: 0.7624 | train_acc: 0.7338 | test_loss: 2.1253 | test_acc: 0.3977\n",
      "Epoch: 18 | train_loss: 0.7570 | train_acc: 0.7368 | test_loss: 1.9916 | test_acc: 0.4055\n",
      "Epoch: 19 | train_loss: 0.7404 | train_acc: 0.7423 | test_loss: 2.0473 | test_acc: 0.4084\n",
      "Epoch: 20 | train_loss: 0.7405 | train_acc: 0.7395 | test_loss: 2.0296 | test_acc: 0.4100\n",
      "Epoch: 21 | train_loss: 0.7279 | train_acc: 0.7437 | test_loss: 2.0118 | test_acc: 0.4194\n",
      "Epoch: 22 | train_loss: 0.7220 | train_acc: 0.7480 | test_loss: 2.0004 | test_acc: 0.4154\n",
      "Epoch: 23 | train_loss: 0.7133 | train_acc: 0.7500 | test_loss: 1.9903 | test_acc: 0.4187\n",
      "Epoch: 24 | train_loss: 0.7146 | train_acc: 0.7506 | test_loss: 1.9626 | test_acc: 0.4257\n",
      "Epoch: 25 | train_loss: 0.7017 | train_acc: 0.7553 | test_loss: 2.0383 | test_acc: 0.4198\n",
      "Epoch: 26 | train_loss: 0.6998 | train_acc: 0.7574 | test_loss: 2.0431 | test_acc: 0.4082\n",
      "Epoch: 27 | train_loss: 0.6894 | train_acc: 0.7588 | test_loss: 2.1058 | test_acc: 0.4125\n",
      "Epoch: 28 | train_loss: 0.6918 | train_acc: 0.7576 | test_loss: 2.0190 | test_acc: 0.4210\n",
      "Epoch: 29 | train_loss: 0.6769 | train_acc: 0.7635 | test_loss: 1.9774 | test_acc: 0.4300\n",
      "Epoch: 30 | train_loss: 0.6776 | train_acc: 0.7632 | test_loss: 1.9825 | test_acc: 0.4199\n",
      "Epoch: 31 | train_loss: 0.6695 | train_acc: 0.7672 | test_loss: 1.9627 | test_acc: 0.4298\n",
      "Epoch: 32 | train_loss: 0.6721 | train_acc: 0.7644 | test_loss: 1.9921 | test_acc: 0.4209\n",
      "Epoch: 33 | train_loss: 0.6651 | train_acc: 0.7675 | test_loss: 2.0200 | test_acc: 0.4150\n",
      "Epoch: 34 | train_loss: 0.6561 | train_acc: 0.7724 | test_loss: 2.0242 | test_acc: 0.4231\n",
      "Epoch: 35 | train_loss: 0.6543 | train_acc: 0.7707 | test_loss: 2.0310 | test_acc: 0.4294\n",
      "Epoch: 36 | train_loss: 0.6523 | train_acc: 0.7738 | test_loss: 2.0689 | test_acc: 0.4232\n",
      "Epoch: 37 | train_loss: 0.6465 | train_acc: 0.7734 | test_loss: 1.9785 | test_acc: 0.4317\n",
      "Epoch: 38 | train_loss: 0.6490 | train_acc: 0.7736 | test_loss: 1.9450 | test_acc: 0.4384\n",
      "Epoch: 39 | train_loss: 0.6426 | train_acc: 0.7790 | test_loss: 1.9810 | test_acc: 0.4320\n",
      "Epoch: 40 | train_loss: 0.6453 | train_acc: 0.7757 | test_loss: 1.9375 | test_acc: 0.4370\n"
     ]
    },
    {
     "data": {
      "image/png": "[encoded data removed]",
      "text/plain": [
       "<Figure size 640x480 with 1 Axes>"
      ]
     },
     "metadata": {},
     "output_type": "display_data"
    }
   ],
   "source": [
    "# Training\n",
    "torch.manual_seed(42) \n",
    "torch.cuda.manual_seed(42)\n",
    "NUM_EPOCHS = 40\n",
    "\n",
    "model = model.to(device)\n",
    "loss_fn = nn.CrossEntropyLoss()\n",
    "optimizer = torch.optim.Adam(params=model.parameters(), lr=0.001)\n",
    "\n",
    "timestamp = datetime.now().strftime(\"%y%m%d_%H%M\")\n",
    "output_dir = f\"results/CNN/result_{DATA_SOURCE}_{timestamp}\"\n",
    "os.mkdir(output_dir)\n",
    "model_results = train(\n",
    "    model=model, \n",
    "    train_dataloader=train_dataloader,\n",
    "    test_dataloader=test_dataloader,\n",
    "    optimizer=optimizer,\n",
    "    loss_fn=loss_fn, \n",
    "    epochs=NUM_EPOCHS,\n",
    "    output_dir=output_dir\n",
    ")"
   ]
  },
  {
   "cell_type": "code",
   "execution_count": null,
   "metadata": {},
   "outputs": [],
   "source": []
  }
 ],
 "metadata": {
  "kernelspec": {
   "display_name": "SynRep",
   "language": "python",
   "name": "python3"
  },
  "language_info": {
   "codemirror_mode": {
    "name": "ipython",
    "version": 3
   },
   "file_extension": ".py",
   "mimetype": "text/x-python",
   "name": "python",
   "nbconvert_exporter": "python",
   "pygments_lexer": "ipython3",
   "version": "3.11.9"
  }
 },
 "nbformat": 4,
 "nbformat_minor": 2
}
